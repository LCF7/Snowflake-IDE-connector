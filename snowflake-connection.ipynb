{
 "cells": [
  {
   "cell_type": "markdown",
   "metadata": {},
   "source": [
    "<h2 style=\"color:green; font-size: 40px;\" align=\"center\">Snowflake IDE Connection<h2>\n",
    "<h2 style=\"color:grey\" align=\"center\"> Python - VS Code <h2>"
   ]
  },
  {
   "cell_type": "code",
   "execution_count": null,
   "metadata": {},
   "outputs": [],
   "source": [
    "# Import necessary libraries: 'snowflake.connector' for connecting to Snowflake and 'pandas' for data manipulation.\n",
    "import snowflake.connector\n",
    "import pandas as pd\n",
    "import json\n",
    "\n",
    "# Function to load connection configuration from a JSON file.\n",
    "def connect_config(f):\n",
    "    with open(f, 'r') as file:\n",
    "        config = json.load(file)\n",
    "    return config\n",
    "\n",
    "# Load the configuration from 'c_parameters.json'. - Edit the file with you connection parameters\n",
    "config = connect_config('c_parameters.json')\n",
    "\n",
    "# Establish connection to Snowflake using credentials and settings from the configuration.\n",
    "conn = snowflake.connector.connect(\n",
    "    user=config['user'],\n",
    "    password=config['password'],\n",
    "    account=config['account'],\n",
    "    warehouse=config['warehouse'],\n",
    "    database=config['database'],\n",
    "    schema=config['schema']\n",
    ")\n",
    "\n",
    "# SQL query to select all records from the NATION table.\n",
    "\n",
    "query = \"SELECT * FROM NATION;\""
   ]
  },
  {
   "cell_type": "markdown",
   "metadata": {},
   "source": [
    "<h2 style=\"color:grey\" align=\"center\"> Testing Connection <h2>"
   ]
  },
  {
   "cell_type": "code",
   "execution_count": null,
   "metadata": {},
   "outputs": [],
   "source": [
    "# Execute the query and load the result into a pandas DataFrame.\n",
    "df_nation = pd.read_sql(query, conn)\n",
    "\n",
    "# Close the connection to Snowflake.\n",
    "conn.close()\n",
    "\n",
    "# Display the first few rows of the DataFrame.\n",
    "df_nation.head()"
   ]
  },
  {
   "cell_type": "markdown",
   "metadata": {},
   "source": [
    "![Imagen not found](https://drive.google.com/uc?export=view&id=1N07-hhRlkCf-S8BUHyUmHFe3o9As30oM)\n"
   ]
  }
 ],
 "metadata": {
  "kernelspec": {
   "display_name": "base",
   "language": "python",
   "name": "python3"
  },
  "language_info": {
   "codemirror_mode": {
    "name": "ipython",
    "version": 3
   },
   "file_extension": ".py",
   "mimetype": "text/x-python",
   "name": "python",
   "nbconvert_exporter": "python",
   "pygments_lexer": "ipython3",
   "version": "3.10.13"
  }
 },
 "nbformat": 4,
 "nbformat_minor": 2
}
